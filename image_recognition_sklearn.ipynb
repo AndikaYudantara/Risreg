{
  "nbformat": 4,
  "nbformat_minor": 0,
  "metadata": {
    "anaconda-cloud": {},
    "kernelspec": {
      "name": "python3",
      "display_name": "Python 3"
    },
    "language_info": {
      "codemirror_mode": {
        "name": "ipython",
        "version": 3
      },
      "file_extension": ".py",
      "mimetype": "text/x-python",
      "name": "python",
      "nbconvert_exporter": "python",
      "pygments_lexer": "ipython3",
      "version": "3.5.5"
    },
    "colab": {
      "name": "image-recognition-sklearn.ipynb",
      "provenance": [],
      "collapsed_sections": [],
      "include_colab_link": true
    },
    "accelerator": "GPU"
  },
  "cells": [
    {
      "cell_type": "markdown",
      "metadata": {
        "id": "view-in-github",
        "colab_type": "text"
      },
      "source": [
        "<a href=\"https://colab.research.google.com/github/AndikaYudantara/Risreg/blob/master/image_recognition_sklearn.ipynb\" target=\"_parent\"><img src=\"https://colab.research.google.com/assets/colab-badge.svg\" alt=\"Open In Colab\"/></a>"
      ]
    },
    {
      "cell_type": "markdown",
      "metadata": {
        "id": "D1mTUahXsyit",
        "colab_type": "text"
      },
      "source": [
        "Image Classification with scikit-learn: Goole Street View House Numbers\n",
        "\n",
        "By [Ellie Birbeck](https://elliebirbeck.com) for [Hyperion Dev](https://blog.hyperiondev.com/)\n"
      ]
    },
    {
      "cell_type": "markdown",
      "metadata": {
        "id": "iDPuvutesyi5",
        "colab_type": "text"
      },
      "source": [
        "### Dataset\n",
        "\n",
        "For this tutorial we’ll be using a dataset from [Stanford University](http://ufldl.stanford.edu/housenumbers). It contains images of house numbers taken from Google Street View. Each one has been cropped to 32x32 pixels in size, focussing on just the number. Some examples are shown below. \n",
        "\n",
        "![house-numbers](http://ufldl.stanford.edu/housenumbers/32x32eg.png)\n",
        "\n",
        "There are a total of 531131 images in our dataset, and we will load them in as one 4D-matrix of shape `32 x 32 x 3 x 531131`. \n",
        "This represents each 32x32 image in RGB format (so the 3 red, green, blue colour channels) for each of our 531131 images. \n",
        "We’ll be predicting the number shown in the image, from one of ten classes (0-9). Note that in this dataset the number 0 is represented by the label 10. \n",
        "\n",
        "The labels are stored in a 1D-matrix of shape `531131 x 1`. You can check the dimensions of a matrix `X` at any time in your program using `X.shape`.  "
      ]
    },
    {
      "cell_type": "markdown",
      "metadata": {
        "id": "iTzoqAhksyjC",
        "colab_type": "text"
      },
      "source": [
        "### Feature Processing\n",
        "\n",
        "Now let’s begin! To understand the data we’re using, we can start by loading and viewing the image files. First we need to import three libraries."
      ]
    },
    {
      "cell_type": "code",
      "metadata": {
        "id": "5_ak9G_LsyjJ",
        "colab_type": "code",
        "colab": {}
      },
      "source": [
        "import cv2\n",
        "import scipy.io\n",
        "import pandas as pd\n",
        "import numpy as np\n",
        "import matplotlib.pyplot as plt\n",
        "%matplotlib inline\n",
        "from skimage.io import imread, imshow"
      ],
      "execution_count": 0,
      "outputs": []
    },
    {
      "cell_type": "markdown",
      "metadata": {
        "id": "ehm0zmTMsyja",
        "colab_type": "text"
      },
      "source": [
        "Then we can load the training dataset into a temporary variable `train_data`, which is a dictionary object. The dictionary contains two variables `X` and `y`. `X` is our 4D-matrix of images, and `y` a 1D-matrix of the corresponding labels. So to access the i-th image in our dataset we would be looking for `X[:,:,:,i]`, and its label would be `y[i]`. Let’s do this for image 10."
      ]
    },
    {
      "cell_type": "code",
      "metadata": {
        "id": "98aXjCLMsyje",
        "colab_type": "code",
        "colab": {}
      },
      "source": [
        "# load our dataset\n",
        "\n",
        "\n",
        "# train_data = scipy.io.loadmat('datasets/extra_32x32.mat')\n",
        "train_data = scipy.io.loadmat('drive/My Drive/datasets/train_32x32.mat')\n",
        "test_data = scipy.io.loadmat('drive/My Drive/datasets/test_32x32.mat')"
      ],
      "execution_count": 0,
      "outputs": []
    },
    {
      "cell_type": "code",
      "metadata": {
        "id": "MmIVI0kNAe3n",
        "colab_type": "code",
        "colab": {
          "base_uri": "https://localhost:8080/",
          "height": 54
        },
        "outputId": "a4fb14e6-7ee6-4844-b0fa-58ddf69e1314"
      },
      "source": [
        "from google.colab import drive\n",
        "drive.mount('/content/drive')"
      ],
      "execution_count": 137,
      "outputs": [
        {
          "output_type": "stream",
          "text": [
            "Drive already mounted at /content/drive; to attempt to forcibly remount, call drive.mount(\"/content/drive\", force_remount=True).\n"
          ],
          "name": "stdout"
        }
      ]
    },
    {
      "cell_type": "code",
      "metadata": {
        "id": "iXUmDhr3syjv",
        "colab_type": "code",
        "colab": {}
      },
      "source": [
        "# extract the images and labels from the dictionary object\n",
        "X = train_data['X']\n",
        "y = train_data['y']"
      ],
      "execution_count": 0,
      "outputs": []
    },
    {
      "cell_type": "code",
      "metadata": {
        "id": "wcxbuCjCsykE",
        "colab_type": "code",
        "outputId": "9e7ba170-9b94-4a42-cf24-2ad24540054d",
        "colab": {
          "base_uri": "https://localhost:8080/",
          "height": 283
        }
      },
      "source": [
        "# view an image (e.g. 10) and print its corresponding label\n",
        "img_index = 0\n",
        "plt.imshow(X[:,:,:,img_index])\n",
        "print(y[img_index])"
      ],
      "execution_count": 139,
      "outputs": [
        {
          "output_type": "stream",
          "text": [
            "[1]\n"
          ],
          "name": "stdout"
        },
        {
          "output_type": "display_data",
          "data": {
            "image/png": "[encoded data removed]",
            "text/plain": [
              "<Figure size 432x288 with 1 Axes>"
            ]
          },
          "metadata": {
            "tags": []
          }
        }
      ]
    },
    {
      "cell_type": "markdown",
      "metadata": {
        "id": "pHSo6uazsykZ",
        "colab_type": "text"
      },
      "source": [
        "> The first code block will take a short while to load if you are using the largest dataset. If you are getting errors here, check two things. Firstly, ensure that your downloaded dataset is saved in the same directory as this notebook. And secondly, ensure the filename matches the code (if you downloaded the smaller dataset, you will have a different filename of `'train_32x32.mat'`)."
      ]
    },
    {
      "cell_type": "markdown",
      "metadata": {
        "collapsed": true,
        "id": "fZNT8X6xsyke",
        "colab_type": "text"
      },
      "source": [
        "As you can see, we load up an image showing house number 2, and the console output from our printed label is also 2. You can change the index of the image (to any number between 0 and 531130) and check out different images and their labels if you like. "
      ]
    },
    {
      "cell_type": "markdown",
      "metadata": {
        "id": "CJwrFSu3sykn",
        "colab_type": "text"
      },
      "source": [
        "Now, to use these images with a machine learning algorithm, we first need to vectorise them. \n",
        "\n",
        "This essentially involves stacking up the 3 dimensions of each image (the width x height x colour channels) to transform it into a 1D-matrix. \n",
        "\n",
        "This gives us our feature vector, although it’s worth noting that this is not really a feature vector in the usual sense. \n",
        "\n",
        "Features usually refer to some kind of quantification of a specific trait of the image, not just the raw pixels. \n",
        "\n",
        "Raw pixels can be used successfully in machine learning algorithms, but this is typically with more complex models such as convolutional neural networks, which can learn specific features themselves within their network of layers. "
      ]
    },
    {
      "cell_type": "code",
      "metadata": {
        "id": "Q01rVl0lsyks",
        "colab_type": "code",
        "colab": {}
      },
      "source": [
        "from sklearn.utils import shuffle\n",
        "\n",
        "X = X.reshape(X.shape[0]*X.shape[1]*X.shape[2],X.shape[3]).T\n",
        "y = y.reshape(y.shape[0],)\n",
        "X, y = shuffle(X, y)"
      ],
      "execution_count": 0,
      "outputs": []
    },
    {
      "cell_type": "markdown",
      "metadata": {
        "id": "xYrqDPynsyk4",
        "colab_type": "text"
      },
      "source": [
        "We’re also shuffling our data just to be sure there are no underlying distributions. The library we’ve used for this ensures that the index pairings between our images in `X` and their labels in `y` are maintained through the shuffling process. "
      ]
    },
    {
      "cell_type": "markdown",
      "metadata": {
        "id": "0uGcOIcTsyk7",
        "colab_type": "text"
      },
      "source": [
        "### Machine Learning Algorithms\n",
        "\n",
        "Now that we have our feature vector `X` ready to go, we need to decide which machine learning algorithm to use. We don’t need to explicitly program an algorithm ourselves - luckily frameworks like scikit-learn do this for us. \n",
        "\n",
        "If you don’t have any prior experience in machine learning, you can use this helpful [cheat sheet](http://scikit-learn.org/stable/tutorial/machine_learning_map/) to guide you in which algorithms to try out depending on your data. \n",
        "\n",
        "For now we will be using a Random Forest approach with default hyperparameters. You can learn more about Random Forests [here](http://scikit-learn.org/stable/modules/generated/sklearn.ensemble.RandomForestClassifier.html ), but in brief they are a construction of multiple decision trees with an output that averages the results of individual trees to prevent fitting too closely to any one tree. "
      ]
    },
    {
      "cell_type": "markdown",
      "metadata": {
        "id": "jHtZ81VpsylB",
        "colab_type": "text"
      },
      "source": [
        "First we import the necessary library and then define our classifier."
      ]
    },
    {
      "cell_type": "code",
      "metadata": {
        "id": "5ykSPdjOsylH",
        "colab_type": "code",
        "outputId": "83a783d3-9846-43d5-92da-931d3558be2e",
        "colab": {
          "base_uri": "https://localhost:8080/",
          "height": 153
        }
      },
      "source": [
        "from sklearn.ensemble import RandomForestClassifier\n",
        "\n",
        "clf = RandomForestClassifier()\n",
        "\n",
        "print(clf)"
      ],
      "execution_count": 141,
      "outputs": [
        {
          "output_type": "stream",
          "text": [
            "RandomForestClassifier(bootstrap=True, ccp_alpha=0.0, class_weight=None,\n",
            "                       criterion='gini', max_depth=None, max_features='auto',\n",
            "                       max_leaf_nodes=None, max_samples=None,\n",
            "                       min_impurity_decrease=0.0, min_impurity_split=None,\n",
            "                       min_samples_leaf=1, min_samples_split=2,\n",
            "                       min_weight_fraction_leaf=0.0, n_estimators=100,\n",
            "                       n_jobs=None, oob_score=False, random_state=None,\n",
            "                       verbose=0, warm_start=False)\n"
          ],
          "name": "stdout"
        }
      ]
    },
    {
      "cell_type": "markdown",
      "metadata": {
        "id": "_GizZdp4sylU",
        "colab_type": "text"
      },
      "source": [
        "We can also print the classifier to the console to see the parameter settings used. \n"
      ]
    },
    {
      "cell_type": "markdown",
      "metadata": {
        "id": "Ml5VcI0gsylZ",
        "colab_type": "text"
      },
      "source": [
        "### Training the model\n",
        "\n",
        "We’re now ready to train and test our data. But before we do that, we need to split our total collection of images into two sets - one for training and one for testing. You can also add a third set for development/validation, which you can read more about [here](https://en.wikipedia.org/wiki/Training,_test,_and_validation_sets).\n",
        "\n",
        "Keeping the testing set completely separate from the training set is important, because we need to be sure that the model will perform well in the real world. Once trained, it will have seen many example images of house numbers. We want to be sure that when presented with new images of numbers it hasn’t seen before, that it has actually learnt something from the training and can generalise that knowledge - not just remember the exact images it has already seen.\n",
        "\n",
        "Usually we use between 70-90% of the data for training, though this varies depending on the amount of data collected, and the type of model trained. For example, neural networks are often used with extremely large amounts of data and may sample 99% of the data for training. In this tutorial we’ll go with 80%.  \n",
        "\n",
        "Again, using the largest dataset means that fitting the model may take a little while."
      ]
    },
    {
      "cell_type": "code",
      "metadata": {
        "id": "wpWURM5jsyld",
        "colab_type": "code",
        "outputId": "7145ca92-8052-4188-9309-6074e4ed45e1",
        "colab": {
          "base_uri": "https://localhost:8080/",
          "height": 153
        }
      },
      "source": [
        "from sklearn.model_selection import train_test_split\n",
        "\n",
        "X_train, X_test, y_train, y_test = train_test_split(X, y, test_size=0.2, random_state=42)\n",
        "\n",
        "clf.fit(X_train, y_train)"
      ],
      "execution_count": 142,
      "outputs": [
        {
          "output_type": "execute_result",
          "data": {
            "text/plain": [
              "RandomForestClassifier(bootstrap=True, ccp_alpha=0.0, class_weight=None,\n",
              "                       criterion='gini', max_depth=None, max_features='auto',\n",
              "                       max_leaf_nodes=None, max_samples=None,\n",
              "                       min_impurity_decrease=0.0, min_impurity_split=None,\n",
              "                       min_samples_leaf=1, min_samples_split=2,\n",
              "                       min_weight_fraction_leaf=0.0, n_estimators=100,\n",
              "                       n_jobs=None, oob_score=False, random_state=None,\n",
              "                       verbose=0, warm_start=False)"
            ]
          },
          "metadata": {
            "tags": []
          },
          "execution_count": 142
        }
      ]
    },
    {
      "cell_type": "markdown",
      "metadata": {
        "id": "Nr1UCTICsylp",
        "colab_type": "text"
      },
      "source": [
        "### Test Results\n",
        "\n",
        "Now we’re ready to use our trained model to make predictions on new data."
      ]
    },
    {
      "cell_type": "code",
      "metadata": {
        "id": "NwH9aDJzsylt",
        "colab_type": "code",
        "outputId": "b4bfd0fd-4c78-45c0-d690-1380cd418aff",
        "colab": {
          "base_uri": "https://localhost:8080/",
          "height": 283
        }
      },
      "source": [
        "\n",
        "X = test_data['X']\n",
        "img_index = 50\n",
        "plt.imshow(X[:,:,:,img_index])\n",
        "\n",
        "X = X.reshape(X.shape[0]*X.shape[1]*X.shape[2],X.shape[3]).T\n",
        "hasil = clf.predict(X)\n",
        "print(hasil[img_index])"
      ],
      "execution_count": 172,
      "outputs": [
        {
          "output_type": "stream",
          "text": [
            "9\n"
          ],
          "name": "stdout"
        },
        {
          "output_type": "display_data",
          "data": {
            "image/png": "[encoded data removed]",
            "text/plain": [
              "<Figure size 432x288 with 1 Axes>"
            ]
          },
          "metadata": {
            "tags": []
          }
        }
      ]
    },
    {
      "cell_type": "code",
      "metadata": {
        "id": "iB2m5Eo77Pbc",
        "colab_type": "code",
        "colab": {
          "base_uri": "https://localhost:8080/",
          "height": 934
        },
        "outputId": "48bb4d20-a099-4b42-e5b0-cb58f0811983"
      },
      "source": [
        "w = 32\n",
        "h = 32\n",
        "fig = plt.figure(figsize=(16, 16))\n",
        "columns = 3\n",
        "rows = 4\n",
        "# ax enables access to manipulate each of subplots\n",
        "ax = []\n",
        "\n",
        "for i in range(10):\n",
        "    img = cv2.imread('drive/My Drive/datasets/raw_data/data'+str(i)+'.jpg')\n",
        "    res = cv2.resize(img, dsize=(32, 32), interpolation=cv2.INTER_CUBIC)\n",
        "    features = np.reshape(res, (32*32*3))\n",
        "    features = features.reshape(1, -1)\n",
        "    label = clf.predict(features)\n",
        "\n",
        "    # create subplot and append to ax\n",
        "    ax.append( fig.add_subplot(rows, columns, i+1) )\n",
        "    ax[-1].set_title(\"label:\"+str(label))  # set title\n",
        "    plt.imshow(res)\n",
        "\n",
        "plt.show() "
      ],
      "execution_count": 219,
      "outputs": [
        {
          "output_type": "display_data",
          "data": {
            "image/png": "[encoded data removed]",
            "text/plain": [
              "<Figure size 1152x1152 with 10 Axes>"
            ]
          },
          "metadata": {
            "tags": []
          }
        }
      ]
    }
  ]
}